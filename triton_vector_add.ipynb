{
  "nbformat": 4,
  "nbformat_minor": 0,
  "metadata": {
    "colab": {
      "provenance": [],
      "gpuType": "T4",
      "authorship_tag": "ABX9TyO8Vus5gmqeTbVKp5gcKLyQ",
      "include_colab_link": true
    },
    "kernelspec": {
      "name": "python3",
      "display_name": "Python 3"
    },
    "language_info": {
      "name": "python"
    },
    "accelerator": "GPU"
  },
  "cells": [
    {
      "cell_type": "markdown",
      "metadata": {
        "id": "view-in-github",
        "colab_type": "text"
      },
      "source": [
        "<a href=\"https://colab.research.google.com/github/Eschamp01/triton-kernels/blob/main/triton_vector_add.ipynb\" target=\"_parent\"><img src=\"https://colab.research.google.com/assets/colab-badge.svg\" alt=\"Open In Colab\"/></a>"
      ]
    },
    {
      "cell_type": "markdown",
      "source": [
        "# Vector Add Kernel: Triton vs native PyTorch\n",
        "\n",
        "Here, I demonstrate a vector add Kernel written in Triton which outperforms PyTorch at larger matrix sizes, and matches PyTorch performance at smaller matrix sizes. The SoftMax operation is key in many deep neural networks, especially in Transformer-based models including Large Language Models and multi-modal models.\n",
        "\n",
        "Tests were performed on an Nvidia Tesla T4 GPU."
      ],
      "metadata": {
        "id": "3xkizAuVNE8c"
      }
    },
    {
      "cell_type": "code",
      "execution_count": 1,
      "metadata": {
        "colab": {
          "base_uri": "https://localhost:8080/"
        },
        "id": "uR5QWs203SWc",
        "outputId": "3f89919b-a14f-4b57-d6d1-028ba5d64b2f"
      },
      "outputs": [
        {
          "output_type": "stream",
          "name": "stdout",
          "text": [
            "\u001b[2K     \u001b[90m━━━━━━━━━━━━━━━━━━━━━━━━━━━━━━━━━━━━━━━━\u001b[0m \u001b[32m21.3/21.3 MB\u001b[0m \u001b[31m13.6 MB/s\u001b[0m eta \u001b[36m0:00:00\u001b[0m\n",
            "\u001b[?25h"
          ]
        }
      ],
      "source": [
        "!pip install torch -qq"
      ]
    },
    {
      "cell_type": "code",
      "source": [
        "!pip install triton -qq"
      ],
      "metadata": {
        "id": "2WfenUsv372a"
      },
      "execution_count": 2,
      "outputs": []
    },
    {
      "cell_type": "code",
      "source": [
        "# imports\n",
        "\n",
        "import torch\n",
        "import triton\n",
        "from triton import cdiv\n",
        "import triton.language as tl"
      ],
      "metadata": {
        "id": "Y-QO7rZC41oL"
      },
      "execution_count": 3,
      "outputs": []
    },
    {
      "cell_type": "code",
      "source": [
        "print(torch.cuda.is_available()) # check that we have a CUDA compatible GPU, since this is where Triton works well\n",
        "print(torch.cuda.get_device_name(0)) # check the GPU name. Original testing on Nvidia Tesla T4 GPU"
      ],
      "metadata": {
        "colab": {
          "base_uri": "https://localhost:8080/"
        },
        "id": "1lVoEIt136Bj",
        "outputId": "c9668f95-5850-4f5f-ed30-21b0ba5eafcc"
      },
      "execution_count": 4,
      "outputs": [
        {
          "output_type": "stream",
          "name": "stdout",
          "text": [
            "True\n",
            "Tesla T4\n"
          ]
        }
      ]
    },
    {
      "cell_type": "code",
      "source": [
        "@triton.jit\n",
        "def vector_add_kernel (a_ptr, b_ptr, out_ptr, num_elements: tl.constexpr, block_size: tl.constexpr):\n",
        "  pid = tl.program_id(axis=0)\n",
        "  block_start = pid * block_size\n",
        "  thread_offsets = block_start + tl.arange(0, block_size)\n",
        "  mask = thread_offsets < num_elements\n",
        "  a_pointers = tl.load(a_ptr + thread_offsets, mask=mask)\n",
        "  b_pointers = tl.load(b_ptr + thread_offsets, mask=mask)\n",
        "  res = a_pointers + b_pointers\n",
        "  tl.store(out_ptr + thread_offsets, res, mask=mask)"
      ],
      "metadata": {
        "id": "gEFigwod5Gkv"
      },
      "execution_count": 5,
      "outputs": []
    },
    {
      "cell_type": "code",
      "source": [
        "def ceil_div(x: int, y: int)-> int:\n",
        "    return ((x+y-1)// y)"
      ],
      "metadata": {
        "id": "SC-1Ue9GAzRw"
      },
      "execution_count": 6,
      "outputs": []
    },
    {
      "cell_type": "code",
      "source": [
        "def vector_addition(a: torch.tensor, b: torch.tensor)-> torch.tensor:\n",
        "    output_buffer = torch.empty_like(a)\n",
        "    assert a.is_cuda and b.is_cuda\n",
        "    num_elems = a.numel()\n",
        "    assert num_elems == b.numel()\n",
        "\n",
        "    block_size = 128\n",
        "    grid_size = ceil_div(num_elems, block_size)\n",
        "    grid = (grid_size,)\n",
        "    # num_warps = 32\n",
        "    k2 = vector_add_kernel[grid](a, b, output_buffer, num_elems, block_size)#, num_warps = num_warps)\n",
        "\n",
        "    return output_buffer"
      ],
      "metadata": {
        "id": "7cBHYbMKBR1c"
      },
      "execution_count": 7,
      "outputs": []
    },
    {
      "cell_type": "code",
      "source": [
        "def verify_numerics() -> bool:\n",
        "    # verify numerical fidelity\n",
        "    torch.manual_seed(2020)  # seed both cpu and gpu\n",
        "    vec_size = 8192\n",
        "    a = torch.rand(vec_size, device='cuda')\n",
        "    b = torch.rand_like(a)\n",
        "    torch_res = a + b\n",
        "    triton_res = vector_addition(a, b)\n",
        "    fidelity_correct = torch.allclose(torch_res, triton_res)\n",
        "    print(f\"{fidelity_correct=}\") # neat Python syntax I didn't know about"
      ],
      "metadata": {
        "id": "a8y596gCB-t4"
      },
      "execution_count": 8,
      "outputs": []
    },
    {
      "cell_type": "code",
      "source": [
        "@triton.testing.perf_report(\n",
        "    triton.testing.Benchmark(\n",
        "        x_names=['size'],  # Argument names to use as an x-axis for the plot.\n",
        "        x_vals=[2 ** i for i in range(10, 28, 1)],  # Different possible values for `x_name`.\n",
        "        x_log=True,  # x axis is logarithmic.\n",
        "        line_arg='provider',  # Argument name whose value corresponds to a different line.\n",
        "        line_vals=['triton', 'torch'],  # Possible values for `line_arg`.\n",
        "        line_names=['Triton', 'Torch'],  # Label name for the lines.\n",
        "        styles=[('blue', '-'), ('green', '-')],  # Line styles.\n",
        "        ylabel='GB/s',  # Label name for the y-axis.\n",
        "        plot_name='vector-add-performance',  # Name for the plot. Used also as a file name.\n",
        "        args={}  # Values for function arguments not in `x_names` and `y_names`.\n",
        "    )\n",
        ")\n",
        "\n",
        "def benchmark(size, provider):\n",
        "    x = torch.rand(size, device='cuda', dtype=torch.float32)\n",
        "    y = torch.rand(size, device='cuda', dtype=torch.float32)\n",
        "    quantiles = [0.5, 0.2, 0.8]\n",
        "    if provider == 'torch':\n",
        "        ms, min_ms, max_ms = triton.testing.do_bench(lambda: x + y, quantiles=quantiles)\n",
        "    if provider == 'triton':\n",
        "        ms, min_ms, max_ms = triton.testing.do_bench(lambda: vector_addition(x, y), quantiles=quantiles)\n",
        "    gbps = lambda ms: 12 * size / ms * 1e-6\n",
        "    return gbps(ms), gbps(max_ms), gbps(min_ms)\n",
        "\n",
        "if __name__ == '__main__':\n",
        "    verify_numerics()\n",
        "    benchmark.run(print_data=True, show_plots=True, save_path='./vec_add_perf')\n"
      ],
      "metadata": {
        "colab": {
          "base_uri": "https://localhost:8080/",
          "height": 836
        },
        "id": "-yuJ05DvIu91",
        "outputId": "bb1cf8b2-bd2a-4ded-b648-d58fd64863ff"
      },
      "execution_count": 9,
      "outputs": [
        {
          "output_type": "stream",
          "name": "stdout",
          "text": [
            "fidelity_correct=True\n"
          ]
        },
        {
          "output_type": "display_data",
          "data": {
            "text/plain": [
              "<Figure size 640x480 with 1 Axes>"
            ],
            "image/png": "[encoded data removed]"
          },
          "metadata": {}
        },
        {
          "output_type": "stream",
          "name": "stdout",
          "text": [
            "vector-add-performance:\n",
            "           size      Triton       Torch\n",
            "0        1024.0    1.959184    1.920000\n",
            "1        2048.0    4.000000    4.302521\n",
            "2        4096.0    8.853026   11.815385\n",
            "3        8192.0   21.787235   22.260869\n",
            "4       16384.0   36.035190   39.133757\n",
            "5       32768.0   63.999998   63.999998\n",
            "6       65536.0  102.400003  101.975103\n",
            "7      131072.0  148.048195  151.004606\n",
            "8      262144.0  183.402983  178.897181\n",
            "9      524288.0  210.051276  193.702454\n",
            "10    1048576.0  231.303526  219.673742\n",
            "11    2097152.0  242.725927  231.849058\n",
            "12    4194304.0  250.775518  236.307695\n",
            "13    8388608.0  253.432273  240.104424\n",
            "14   16777216.0  254.256749  241.533161\n",
            "15   33554432.0  256.333761  242.737631\n",
            "16   67108864.0  256.106808  243.044742\n",
            "17  134217728.0  257.026234  244.411447\n"
          ]
        },
        {
          "output_type": "display_data",
          "data": {
            "text/plain": [
              "<Figure size 640x480 with 0 Axes>"
            ]
          },
          "metadata": {}
        }
      ]
    },
    {
      "cell_type": "code",
      "source": [],
      "metadata": {
        "id": "tmJpdXMzOLs1"
      },
      "execution_count": null,
      "outputs": []
    }
  ]
}